{
 "cells": [
  {
   "cell_type": "code",
   "execution_count": null,
   "id": "77c118f4",
   "metadata": {
    "vscode": {
     "languageId": "plaintext"
    }
   },
   "outputs": [],
   "source": [
    "# 📊 COVID-19 Data Visualizer for India\n",
    "# ------------------------------------\n",
    "\n",
    "import pandas as pd\n",
    "import matplotlib.pyplot as plt\n",
    "\n",
    "# Step 1: Download and load the dataset\n",
    "url = \"https://raw.githubusercontent.com/datasets/covid-19/main/data/countries-aggregated.csv\"\n",
    "df = pd.read_csv(url)\n",
    "print(\"✅ Data loaded. Sample:\")\n",
    "print(df.head())\n",
    "\n",
    "# Step 2: Filter for India\n",
    "india_df = df[df['Country'] == 'India']\n",
    "\n",
    "# Step 3: Convert 'Date' column to datetime\n",
    "india_df['Date'] = pd.to_datetime(india_df['Date'])\n",
    "\n",
    "# Step 4: Plot Confirmed, Recovered, Deaths\n",
    "plt.figure(figsize=(12, 6))\n",
    "plt.plot(india_df['Date'], india_df['Confirmed'], label='Confirmed', color='blue')\n",
    "plt.plot(india_df['Date'], india_df['Recovered'], label='Recovered', color='green')\n",
    "plt.plot(india_df['Date'], india_df['Deaths'], label='Deaths', color='red')\n",
    "\n",
    "plt.title(\"📈 COVID-19 Trend in India\", fontsize=16)\n",
    "plt.xlabel(\"Date\", fontsize=12)\n",
    "plt.ylabel(\"Number of Cases\", fontsize=12)\n",
    "plt.legend()\n",
    "plt.grid(True)\n",
    "plt.tight_layout()\n",
    "plt.show()\n",
    "\n",
    "print(\"📍 Visualization Complete.\")\n",
    "\n"
   ]
  }
 ],
 "metadata": {
  "language_info": {
   "name": "python"
  }
 },
 "nbformat": 4,
 "nbformat_minor": 5
}
